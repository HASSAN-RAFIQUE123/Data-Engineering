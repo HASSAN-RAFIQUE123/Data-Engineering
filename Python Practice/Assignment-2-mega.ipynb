{
 "cells": [
  {
   "cell_type": "code",
   "execution_count": 4,
   "id": "56a4a28b",
   "metadata": {},
   "outputs": [
    {
     "name": "stdout",
     "output_type": "stream",
     "text": [
      "<class 'str'>\n"
     ]
    }
   ],
   "source": [
    "### Q26. What is a string? How can we declare string in Python?\n",
    "Strings can be created by enclosing characters inside a single quote or double-quotes. Even triple quotes can be used in Python but generally used to represent multiline strings and docstrings.\n",
    "course=\"we are learning bigData\"\n",
    "print(course)\n",
    "#### string is chracter or any sentence.\n",
    "string can be characters and strings.\n",
    "### Q27. How can we access the string using its index?\n",
    "String Indexing\n",
    "Individual characters in a string can be accessed by specifying the string name followed by a number in square brackets ( [] ). String indexing in Python is zero-based: the first character in the string has index 0 , the next has index 1 \n",
    "course=\"we are learning bigData\"\n",
    "print(course[0:8])\n",
    "### Q28. Write a code to get the desired output of the following\n",
    "string = \"Big Data iNeuron\"\n",
    "# desired_output = \"iNeuron\"\n",
    "print([9:16])\n",
    "# Q29. Write a code to get the desired output of the following\n",
    "string = \"Big Data iNeuron\"\n",
    "print(string[:8:-1])\n",
    "# desired_output = \"norueNi\"\n",
    "\n",
    "# Q30. Resverse the string given in the above question.\n",
    "print(string[::-1])\n",
    "# Q31. How can you delete entire string at once?\n",
    "name=\"Hassan\"\n",
    "del(name)"
   ]
  },
  {
   "cell_type": "code",
   "execution_count": null,
   "id": "2d671cad",
   "metadata": {},
   "outputs": [],
   "source": []
  },
  {
   "cell_type": "code",
   "execution_count": null,
   "id": "dd72048d",
   "metadata": {},
   "outputs": [],
   "source": [
    "### Q32. What is escape sequence?\n",
    " An escape sequence is a sequence of characters that, when used inside a character or string,\n",
    "<img src=\"C:\\Users\\HASSAN\\Documents\\capture.png\"/>"
   ]
  },
  {
   "cell_type": "code",
   "execution_count": 13,
   "id": "fa59e45a",
   "metadata": {},
   "outputs": [
    {
     "name": "stdout",
     "output_type": "stream",
     "text": [
      "hy we are\n",
      " learning python\n",
      "------------------------\n",
      "hy we are \r",
      " learning python\n",
      "------------------------\n",
      "hy\b we are learning python\n",
      "------------------------\n"
     ]
    }
   ],
   "source": [
    "print(\"hy we are\\n learning python\")\n",
    "print(\"\"\"------------------------\"\"\")\n",
    "print(\"hy we are \\r learning python\") #carriage return\n",
    "print(\"\"\"------------------------\"\"\")\n",
    "print(\"hy\\b we are learning python\") # back space\n",
    "print(\"\"\"------------------------\"\"\")"
   ]
  },
  {
   "cell_type": "code",
   "execution_count": 22,
   "id": "eadbfe57",
   "metadata": {},
   "outputs": [
    {
     "name": "stdout",
     "output_type": "stream",
     "text": [
      "'ineuron's Big data course'\n"
     ]
    }
   ],
   "source": [
    "# Q33. How can you print the below string?\n",
    "# 'iNeuron's Big Data Course'\n",
    "print(\"\\'ineuron\\'s Big data course\\'\")\n",
    "# Q34. What is a list in Python?\n",
    "List. Lists are used to store multiple items in a single variable. Lists are one of 4 built-in data types in Python used to store collections of data, the other 3 are Tuple, Set, and Dictionary, all with different qualities and usage"
   ]
  },
  {
   "cell_type": "code",
   "execution_count": 1,
   "id": "ffb48699",
   "metadata": {},
   "outputs": [
    {
     "name": "stdout",
     "output_type": "stream",
     "text": [
      "['Hassan', 3322, 0.7]\n",
      "3322\n",
      "iNeuron\n",
      "1,2,3\n",
      "<class 'list'>\n",
      "3\n"
     ]
    },
    {
     "data": {
      "text/plain": [
       "[1, 2, 3, 'big', 'Hi', [45, 54, 'iNeuron'], 'Big Data']"
      ]
     },
     "execution_count": 1,
     "metadata": {},
     "output_type": "execute_result"
    }
   ],
   "source": [
    "# Q35. How can you create a list in Python?\n",
    "x=[\"Hassan\",3322,0.7]\n",
    "print(x)\n",
    "# Q36. How can we access the elements in a list?\n",
    "print(x[1])\n",
    "# Q37. Write a code to access the word \"iNeuron\" from the given list.\n",
    "lst = [1,2,3,\"Hi\",[45,54, \"iNeuron\"], \"Big Data\"]\n",
    "print(lst[4][2])\n",
    "# Q38. Take a list as an input from the user and find the length of the list.\n",
    "list1=[]\n",
    "list2=input(\"\").split(',')\n",
    "list1.append(list2)\n",
    "print(type(list2))\n",
    "print(len(list2))\n",
    "# Q39. Add the word \"Big\" in the 3rd index of the given list.\n",
    "lst = [\"Welcome\", \"to\", \"Data\", \"course\"]\n",
    "lst.insert(3,\"big\")\n",
    "lst\n",
    "\n"
   ]
  },
  {
   "cell_type": "code",
   "execution_count": 19,
   "id": "d5f8ba5f",
   "metadata": {},
   "outputs": [
    {
     "name": "stdout",
     "output_type": "stream",
     "text": [
      "<class 'tuple'>\n"
     ]
    },
    {
     "data": {
      "text/plain": [
       "1"
      ]
     },
     "execution_count": 19,
     "metadata": {},
     "output_type": "execute_result"
    }
   ],
   "source": [
    "# Q40. What is a tuple? How is it different from list?\n",
    "#tuple is immutable. we do not insert data in tuple.Python Tuple is a collection of objects separated by commas. In some ways, a tuple is similar to a list in terms of indexing, nested objects, and repetition \n",
    "# Q41. How can you create a tuple in Python?\n",
    "tp=(1,2,3,'ali',0.5)\n",
    "print(type(tp))\n",
    "# Q42. Create a tuple and try to add your name in the tuple. Are you able to do it? Support your answer with reason.\n",
    "no,we cannot add in tuple.because tuple is immutable.\n",
    "\n"
   ]
  },
  {
   "cell_type": "code",
   "execution_count": null,
   "id": "dc98b4d6",
   "metadata": {},
   "outputs": [],
   "source": [
    "### Q43. Can two tuple be appended. If yes, write a code for it. If not, why?\n",
    "#we cannot append two tuple but concatinate two tupple.\n",
    "### Q44. Take a tuple as an input and print the count of elements in it.\n",
    "tup=tuple(input().split(\",\"))\n",
    "print(len(tup))\n",
    "x=tup.count(2)\n",
    "print(x)\n",
    "### Q45. What are sets in Python?\n",
    " Set is one of 4 built-in data types in Python used to store collections \n",
    " of data, the other 3 are List, Tuple, and Dictionary, all with different qualities and usage.\n",
    "### Q46. How can you create a set?\n",
    "st={'apple',1,'two'}\n",
    "print(st)\n"
   ]
  },
  {
   "cell_type": "code",
   "execution_count": null,
   "id": "dd3dad9e",
   "metadata": {},
   "outputs": [],
   "source": [
    "### Q47. Create a set and add \"iNeuron\" in your set.\n",
    "course={\"big\",\"data\"}\n",
    "course.add(\"iNeuron\")\n",
    "print(course)\n",
    "### Q48. Try to add multiple values using add() function.\n",
    "course.add(\"Hy\")\n",
    "course.add(\"ok\")\n",
    "print(course)\n",
    "### Q49. How is update() different from add()?\n",
    "course1={\"Hyy this updates:\"}\n",
    "course.update(course1)\n",
    "print(course)\n"
   ]
  },
  {
   "cell_type": "code",
   "execution_count": null,
   "id": "89ebfe21",
   "metadata": {},
   "outputs": [],
   "source": []
  },
  {
   "cell_type": "code",
   "execution_count": null,
   "id": "5fd817ea",
   "metadata": {},
   "outputs": [],
   "source": [
    "#### Q50. What is clear() in sets?\n",
    " clear are used to renove all item in set\n",
    "course.clear()\n",
    "print(course)\n",
    "#### Q51. What is frozen set?\n",
    " The frozenset() function returns an immutable frozenset initialized with elements from the given iterable.\n",
    "fr={'ali','IS','my friend'}\n",
    "fs=frozenset(fr)\n",
    "fs.add(\"hy\")\n",
    "#### Q52. How is frozen set different from set?\n",
    " Frozen set is just an immutable version of a Python set object. While elements of a set can be modified at any time, elements of the frozen set remain the same after creation. Due to this, \n",
    " frozen sets can be used as keys in Dictionary or as elements of another set.\n",
    "\n"
   ]
  },
  {
   "cell_type": "code",
   "execution_count": 70,
   "id": "608a60c1",
   "metadata": {},
   "outputs": [
    {
     "name": "stdout",
     "output_type": "stream",
     "text": [
      "{3, 4}\n"
     ]
    }
   ],
   "source": [
    "# Q53. What is union() in sets? Explain via code.\n",
    "#join two set is called union.only unique element are showing.\n",
    "set1={1,2,3,4}\n",
    "set2={3,4,5,6,7}\n",
    "set1.union(set2)\n",
    "# print(set1 | set2)\n",
    "# Q54. What is intersection() in sets? Explain via code.\n",
    "# In this tutorial, we will learn about the Python Set intersection() method with the help of examples.\n",
    "x=set1.intersection(set2)\n",
    "print(x)\n",
    "# Q55. What is dictionary ibn Python?\n",
    "A dictionary is an unordered and mutable Python container that stores mappings of unique keys to values. Dictionaries are written with curly brackets ({}), \n",
    "including key-value pairs separated by commas (,). A colon (:) separates each key from its value.\n"
   ]
  },
  {
   "cell_type": "markdown",
   "id": "5035746f",
   "metadata": {},
   "source": [
    "#### DICTIONARY Operation\n",
    "clear() – Remove all the elements from the dictionary\n",
    "copy() – Returns a copy of the dictionary\n",
    "get() – Returns the value of specified key\n",
    "items() – Returns a list containing a tuple for each key value pair\n",
    "keys() – Returns a list containing dictionary’s keys\n",
    "pop() – Remove the element with specified key\n",
    "popitem() – Removes the last inserted key-value pair\n",
    "update() – Updates dictionary with specified key-value pairs\n",
    "values() – Returns a list of all the values of dictionary"
   ]
  },
  {
   "cell_type": "code",
   "execution_count": 27,
   "id": "5d0b3398",
   "metadata": {},
   "outputs": [
    {
     "name": "stdout",
     "output_type": "stream",
     "text": [
      "{'first name': 'ali'}\n",
      "<class 'dict'>\n",
      "{'class': 'Big data', 'duration': 3}\n"
     ]
    }
   ],
   "source": [
    "# Q56. How is dictionary different from all other data structures.\n",
    "# A Python dictionary is a data structure for storing groups of objects. It consists of a mapping of key-value pairs, where each key is associated with a value. \n",
    "# It can contain data with the same or different data types, is unordered, and is mutable.\n",
    "# Q57. How can we delare a dictionary in Python?\n",
    "dict={\n",
    "    'first name':'ali'\n",
    "    }\n",
    "print(dict)\n",
    "\n",
    "# Q58. What will the output of the following?\n",
    "var = {}\n",
    "print(type(var))\n",
    "# Q59. How can we add an element in a dictionary?\n",
    "dict={\n",
    "    'class':'Big data'\n",
    "}\n",
    "# add element to dictionary;\n",
    "dict['duration']=3\n",
    "print(dict)"
   ]
  },
  {
   "cell_type": "code",
   "execution_count": 100,
   "id": "26404dc9",
   "metadata": {},
   "outputs": [
    {
     "name": "stdout",
     "output_type": "stream",
     "text": [
      "{'name': 'kk', 'course': 'ÁI', 'age': 13}\n",
      "{'data_1': {'name': 'kk', 'course': 'ÁI', 'age': 13, 'data_1.1': {'name': 'kkk', 'course': 'ÁII', 'age': 14, 'section': {'group': 'Acca', 'group_1': 'bbdd'}}}, 'data_2': {'status': 'empty'}}\n",
      "{'name': 'kk', 'course': 'ÁI', 'age': 13, 'data_1.1': {'name': 'kkk', 'course': 'ÁII', 'age': 14, 'section': {'group': 'Acca', 'group_1': 'bbdd'}}}\n",
      "dict_items([('data_1', {'name': 'kk', 'course': 'ÁI', 'age': 13, 'data_1.1': {'name': 'kkk', 'course': 'ÁII', 'age': 14, 'section': {'group': 'Acca', 'group_1': 'bbdd'}}}), ('data_2', {'status': 'empty'})])\n"
     ]
    }
   ],
   "source": [
    "# Q60. Create a dictionary and access all the values in that dictionary.\n",
    "dict_test={\n",
    "   \n",
    "        'name':'kk',\n",
    "        'course':'ÁI',\n",
    "        'age':13\n",
    "    \n",
    "}\n",
    "print(dict_test)\n",
    "# Q61. Create a nested dictionary and access all the element in the inner dictionary.\n",
    "n_dict={\n",
    "   'data_1':{\n",
    "        'name':'kk',\n",
    "        'course':'ÁI',\n",
    "        'age':13,\n",
    "       'data_1.1':{\n",
    "        'name':'kkk',\n",
    "        'course':'ÁII',\n",
    "        'age':14,\n",
    "       'section':{\n",
    "        'group':'Acca',\n",
    "        'group_1':'bbdd',\n",
    "        \n",
    "       }\n",
    "       }\n",
    "   },\n",
    "    'data_2':{\n",
    "     'status':'empty'   \n",
    "    }\n",
    "    \n",
    "}\n",
    "\n",
    "print(n_dict)\n",
    "# Q62. What is the use of get() function?\n",
    "print(n_dict.get(\"data_1\"))\n",
    "# get function is used to print \n",
    "# Q63. What is the use of items() function?\n",
    "# print data in the form of list.\n",
    "print(n_dict.items())"
   ]
  },
  {
   "cell_type": "code",
   "execution_count": 103,
   "id": "339390ee",
   "metadata": {},
   "outputs": [
    {
     "name": "stdout",
     "output_type": "stream",
     "text": [
      "{'name': 'kk', 'course': 'ÁI', 'age': 13, 'data_1.1': {'name': 'kkk', 'course': 'ÁII', 'age': 14, 'section': {'group': 'Acca', 'group_1': 'bbdd'}}}\n",
      "('data_2', {'status': 'empty'})\n",
      "dict_keys([])\n",
      "dict_values([])\n"
     ]
    }
   ],
   "source": [
    "# Q64. What is the use of pop() function?\n",
    "# remove element by using key in dictionary.\n",
    "print(n_dict.pop(\"data_1\"))\n",
    "# Q65. What is the use of popitems() function?\n",
    "# remove the last inserted key value pair in dictionary.\n",
    "print(n_dict.popitem())\n",
    "# Q66. What is the use of keys() function?\n",
    "# to print out key values in data set.\n",
    "print(n_dict.keys())\n",
    "# Q67. What is the use of values() function?\n",
    "print(n_dict.values())"
   ]
  },
  {
   "cell_type": "code",
   "execution_count": null,
   "id": "5601aa9a",
   "metadata": {},
   "outputs": [],
   "source": [
    "# Q68. What are loops in Python?\n",
    "loop is used to iterate the values.\n",
    "# Q69. How many type of loop are there in Python?\n",
    "two typle of loops in python,\n",
    "for loop,while loop,\n",
    "# Q70. What is the difference between for and while loops?\n",
    "The major difference between for loop and the while loop is that for loop is used when the number of iterations is known,\n",
    "whereas execution is done in the while loop until the statement in the program is proved wrong\n",
    "# Q71. What is the use of continue statement?\n",
    "The continue keyword is used to end the current iteration in a for loop \n",
    "(or a while loop), and continues to the next iterations\n",
    "# Q72. What is the use of break statement?\n",
    "break statement terminate the loops.\n",
    "# Q73. What is the use of pass statement?\n",
    "the pass statement is a null statement which can be used as a placeholder for future code.\n",
    "Suppose we have a loop or a function that is not implemented yet, \n",
    "but we want to implement it in the future. In such cases, we can use the pass statement.\n",
    "# Q74. What is the use of range() function?\n",
    "The Python range() function returns a sequence of numbers, in a given range.\n",
    "The most common use of it is to iterate sequence on a sequence of numbers using Python loops\n",
    "# Q75. How can you loop over a dictionary?\n",
    "When looping through a dictionary, the return value are the keys of the dictionary, but there are methods to return the values as well.\n"
   ]
  },
  {
   "cell_type": "markdown",
   "id": "7d7094ec",
   "metadata": {},
   "source": [
    "### Coding problems"
   ]
  },
  {
   "cell_type": "code",
   "execution_count": null,
   "id": "f9b25219",
   "metadata": {},
   "outputs": [
    {
     "name": "stdout",
     "output_type": "stream",
     "text": [
      "120\n",
      "250.0\n",
      "2762.815625000003\n",
      "prime\n"
     ]
    }
   ],
   "source": [
    "# Q76. Write a Python program to find the factorial of a given number.\n",
    "num=5\n",
    "fact=1\n",
    "for i in range(1,num+1):\n",
    "    fact=fact*i\n",
    "print(fact)\n",
    "\n",
    "# Q77. Write a Python program to calculate the simple interest. Formula to calculate simple interest is SI = (PRT)/100\n",
    "# P=principle\n",
    "p=1000\n",
    "# R=rate of interest\n",
    "r=5\n",
    "# T=Time\n",
    "t=5\n",
    "# SI=(PRT)/100\n",
    "si=(p*r*t)/100\n",
    "print(si)\n",
    "# Q78. Write a Python program to calculate the compound interest. Formula of compound interest is A = P(1+ R/100)^t.\n",
    "# compound interset=A-P\n",
    "# A=p(1+R/100)^t\n",
    "# R=rate,\n",
    "# t=time\n",
    "p=10000\n",
    "a=p*(1+r/100)**t\n",
    "# Type_error :: int object is not callable.this is due to when sign between number is not clearly visible like\n",
    "# a=p(1+r/100)**t rather then a=p*(1+r/100)**t\n",
    "CI=a-p\n",
    "print(CI)\n",
    "# Q79. Write a Python program to check if a number is prime or not.\n",
    "num=7\n",
    "if num>1:\n",
    "    for i in range(2,num):\n",
    "        if (num%i)==0:# modulus check the reminder after division\n",
    "            #6%(2,3,5,6,7) if reminder is zero then not prime if reminder is something then prime.\n",
    "            print(\" not prime\")\n",
    "            break\n",
    "    # condition not satisfied and loop terminated to next step.\n",
    "    else:\n",
    "        print(\"prime\")\n",
    "else:\n",
    "    print(\"not prime\")\n",
    "# Q80. Write a Python program to check Armstrong Number.\n",
    "# Armstrong number of three digits is an integer such that the \n",
    "# sum of the cubes of its digits is equal to the number itself\n",
    "# print(371==(3**3)+(7**3)+(1**3))"
   ]
  },
  {
   "cell_type": "code",
   "execution_count": 31,
   "id": "844daf15",
   "metadata": {},
   "outputs": [
    {
     "name": "stdout",
     "output_type": "stream",
     "text": [
      "153 armstrong\n"
     ]
    }
   ],
   "source": [
    "number=153\n",
    "sums=0\n",
    "temp = number\n",
    "while (temp>0):\n",
    "    digit=temp % 10\n",
    "    sums +=digit **3\n",
    "    temp=temp//10 # floor division 15//2==> 7\n",
    "if number == sums:\n",
    "     print(number,\"armstrong\")\n",
    "else:\n",
    "    print(number,\"not armstrong\")"
   ]
  },
  {
   "cell_type": "code",
   "execution_count": 88,
   "id": "5554c14a",
   "metadata": {},
   "outputs": [
    {
     "name": "stdout",
     "output_type": "stream",
     "text": [
      "34\n",
      "[100, 3, 5, 7, 9, 99, 1]\n",
      "[1, 5, 3, 7, 9, 99, 100]\n",
      "100\n",
      "[1, 3, 6, 10, 15, 21, 28, 36, 45, 55]\n"
     ]
    }
   ],
   "source": [
    "# Q81. Write a Python program to find the n-th Fibonacci Number.\n",
    "# 0, 1, 1, 2, 3, 5, 8, 13, 21, 34, 55, 89 fibnoic series like\n",
    "# F(n-1)+F(n-2).......\n",
    "def Fibonacci(n):\n",
    "    if n<0:\n",
    "        print(\"Fibbonacci can't be computed\")\n",
    "   # First Fibonacci number\n",
    "    elif n==1:\n",
    "        return 0\n",
    "   # Second Fibonacci number\n",
    "    elif n==2:\n",
    "        return 1\n",
    "    else:\n",
    "        return Fibonacci(n-1)+Fibonacci(n-2)\n",
    "# main\n",
    "n=10\n",
    "print(Fibonacci(n))\n",
    "# Q82. Write a Python program to interchange the first and last element in a list.\n",
    "lists=[1,3,5,7,9,99,100]\n",
    "len_length=len(lists)\n",
    "temp=lists[0]\n",
    "lists[0]=lists[len_length-1]\n",
    "lists[len_length-1]=temp\n",
    "print(lists)\n",
    "    \n",
    "# Q83. Write a Python program to swap two elements in a list.\n",
    "lists=[1,3,5,7,9,99,100]\n",
    "len_lis=len(lists)\n",
    "# swap 2 item in list:\n",
    "temp=lists[1]\n",
    "lists[1]=lists[2]\n",
    "lists[2]=temp\n",
    "\n",
    "print(lists)\n",
    "# Q84. Write a Python program to find N largest element from a list.\n",
    "list_1=[1,3,5,7,9,99,100,30]\n",
    "max_num=list_1[0]\n",
    "for number in list_1:\n",
    "    if number>max_num:\n",
    "        max_num=number\n",
    "print(max_num)\n",
    "# Q85. Write a Python program to find cumulative sum of a list.\n",
    "list=[1, 2, 3, 4, 5, 6, 7, 8, 9, 10]  \n",
    "cum_list=[]\n",
    "y=0\n",
    "for x in range(0,len(list)):\n",
    "    y += list[x]\n",
    "    cum_list.append(y)\n",
    "print(cum_list)\n",
    "    "
   ]
  },
  {
   "cell_type": "code",
   "execution_count": 106,
   "id": "2eab69fc",
   "metadata": {},
   "outputs": [
    {
     "name": "stdout",
     "output_type": "stream",
     "text": [
      "not polindrome\n",
      "bidata course\n",
      "True\n"
     ]
    }
   ],
   "source": [
    "# Q86. Write a Python program to check if a string is palindrome or not.\n",
    "# A palindrome is a word or a sentence that reads the same whether read from left to right or right tleftef\n",
    "string=\"rubi\"\n",
    "string=string.casefold() #casefold convert all string character into low case. \n",
    "rev_string=reversed(string)\n",
    "if string==rev_string:\n",
    "    print(\"polindrome\")\n",
    "else:\n",
    "    print(\"not polindrome\")\n",
    "# Q87. Write a Python program to remove i'th element from a string.\n",
    "string=\"bigdata course\"\n",
    "new_string=string[:2]+string[3:]\n",
    "print(new_string)\n",
    "# Q88. Write a Python program to check if a substring is present in a given string.\n",
    "string=\"bigdata bootcamp 2.0 course\"\n",
    "substring=\"data\"\n",
    "if substring in string:\n",
    "    print(True)\n",
    "else:\n",
    "    print(False)\n",
    "\n"
   ]
  },
  {
   "cell_type": "code",
   "execution_count": 163,
   "id": "9a789ff2",
   "metadata": {},
   "outputs": [
    {
     "name": "stdout",
     "output_type": "stream",
     "text": [
      "learning\n",
      "course\n",
      "Erlangen\n",
      "{'name': 'Hassan', 'course': 'big data', 'age': 25, 'gender': 'male'}\n",
      "{'Sachin': 10, 'MSD': 7, 'Kohli': 18, 'Rohit': 45}\n",
      "<class 'dict'>\n",
      "[(9, 729), (5, 125), (6, 216)]\n",
      "<class 'int'>\n"
     ]
    }
   ],
   "source": [
    "# Q89. Write a Python program to find words which are greater than given length k.\n",
    "string=(\"hy i am learning big data course\").split(\" \") # split is used to seprate space between the world:\n",
    "k=4\n",
    "for sub in string:\n",
    "    if len(sub)>k:\n",
    "        print(sub)\n",
    "# Q90. Write a Python program to extract unquire dictionary values.\n",
    "dictionary={\n",
    "    'name':'Hassan',\n",
    "    'course':'big data',\n",
    "    'cities':{\n",
    "        'Er':\"Erlangen\",\n",
    "        'Nu':'Nurenburg'\n",
    "    }\n",
    "}\n",
    "print(dictionary['cities']['Er'])\n",
    "# Q91. Write a Python program to merge two dictionary.\n",
    "dict_1={\n",
    "     'name':'Hassan',\n",
    "    'course':'big data',\n",
    "}\n",
    "dict_2={\n",
    "    'age':25,\n",
    "    'gender':'male'\n",
    "}\n",
    "dict_1.update(dict_2) # merge two string\n",
    "print(dict_1)\n",
    "# Q92. Write a Python program to convert a list of tuples into dictionary.\n",
    "\n",
    "data=[('Sachin', 10), ('MSD', 7), ('Kohli', 18), ('Rohit', 45)]\n",
    "dictionary=dict(data)\n",
    "print(dictionary)\n",
    "print(type(dictionary))\n",
    "# Output : {'Sachin': 10, 'MSD': 7, 'Kohli': 18, 'Rohit': 45}\n",
    "\n",
    "# Q93. Write a Python program to create a list of tuples from given list having number and its cube in each tuple.\n",
    "# Input: list = [9, 5, 6]\n",
    "list = [9, 5, 6]\n",
    "res=[(i,i**3) for i in list]\n",
    "print(res)\n",
    "\n",
    "# Output: [(9, 729), (5, 125), (6, 216)]"
   ]
  },
  {
   "cell_type": "code",
   "execution_count": 87,
   "id": "cfc0a531",
   "metadata": {},
   "outputs": [
    {
     "name": "stdout",
     "output_type": "stream",
     "text": [
      "[(7, 7), (7, 8), (2, 7), (2, 8), (7, 7), (7, 2), (8, 7), (8, 2)]\n",
      "[('Geeks', 8), ('for', 24), ('Geeks', 30)]\n",
      "*\n",
      "*  *\n",
      "*  *  *\n",
      "*  *  *  *\n",
      "*  *  *  *  *\n",
      "<--------------->\n",
      "        * \n",
      "      * * \n",
      "    * * * \n",
      "  * * * * \n",
      "* * * * * \n",
      "<--------------->\n",
      "    * \n",
      "   * * \n",
      "  * * * \n",
      " * * * * \n",
      "* * * * * \n",
      "1 \n",
      "1 2 \n",
      "1 2 3 \n",
      "1 2 3 4 \n",
      "1 2 3 4 5 \n",
      "A \n",
      "B C \n",
      "D E F \n",
      "G H I J \n",
      "K L M N O \n"
     ]
    }
   ],
   "source": [
    "# Q94. Write a Python program to get all combinations of 2 tuples.\n",
    "# Input : test_tuple1 = (7, 2), test_tuple2 = (7, 8)\n",
    "test_tuple1 = (7, 2)\n",
    "test_tuple2 = (7, 8)\n",
    "res=[(a,b) for a in test_tuple1 for b in test_tuple2]# list comprehension\n",
    "res=res+[(a,b) for a in test_tuple2 for b in test_tuple1]\n",
    "print(res)\n",
    "\n",
    "# Output : [(7, 7), (7, 8), (2, 7), (2, 8), (7, 7), (7, 2), (8, 7), (8, 2)]\n",
    "# Q95. Write a Python program to sort a list of tuples by second item.\n",
    "# Input : [('for', 24), ('Geeks', 8), ('Geeks', 30)] \n",
    "def sortlist(item):\n",
    "    # key set to used sort 2nd element of list. \n",
    "    item.sort(key=lambda x:x[1])\n",
    "    return item\n",
    "               \n",
    "item=[('for', 24), ('Geeks', 8), ('Geeks', 30)] \n",
    "\n",
    "print(sortlist(item))\n",
    "# Output : [('Geeks', 8), ('for', 24), ('Geeks', 30)]\n",
    "# Q96. Write a python program to print below pattern.\n",
    "\n",
    "# * \n",
    "# * * \n",
    "# * * * \n",
    "# * * * * \n",
    "# * * * * *\n",
    "row=5\n",
    "for i in range(row):\n",
    "    for j in range(i):\n",
    "        print(\"* \",end=\" \")\n",
    "        \n",
    "    print(\"*\")\n",
    "# Q97. Write a python program to print below pattern.\n",
    "\n",
    "#     *\n",
    "#    **\n",
    "#   ***\n",
    "#  ****\n",
    "# *****\n",
    "print(\"<--------------->\")\n",
    "row=5\n",
    "for i in range(row):\n",
    "    for j in range(row-i-1):\n",
    "        print(\" \",end=\" \")\n",
    "    for j in range(i+1):\n",
    "        print(\"*\",end=\" \")\n",
    "        \n",
    "    print(\"\")\n",
    "# Q98. Write a python program to print below pattern.\n",
    "print(\"<--------------->\")\n",
    "#     * \n",
    "#    * * \n",
    "#   * * * \n",
    "#  * * * * \n",
    "# * * * * * \n",
    "row=5\n",
    "for i in range(row):\n",
    "    for j in range(row-i-1):\n",
    "        print(\"\",end=\" \")\n",
    "    for j in range(i+1):\n",
    "        print(\"*\",end=\" \")\n",
    "        \n",
    "    print(\"\")\n",
    "# Q99. Write a python program to print below pattern.\n",
    "\n",
    "# 1 \n",
    "# 1 2 \n",
    "# 1 2 3 \n",
    "# 1 2 3 4 \n",
    "# 1 2 3 4 5\n",
    "row=5\n",
    "for i in range(row):\n",
    "    for j in range(i+1):\n",
    "        print(j+1,end=\" \")\n",
    "        \n",
    "    print()\n",
    "# Q100. Write a python program to print below pattern.\n",
    "\n",
    "# A \n",
    "# B B \n",
    "# C C C \n",
    "# D D D D \n",
    "# E E E E E \n",
    "x=[\"A\",\"B\",\"C\",\"D\",\"E\"]\n",
    "row=5\n",
    "k=ord(\"A\")\n",
    "for i in range(row):\n",
    "    for j in range(i+1):\n",
    "        print(chr(k),end=(\" \"))\n",
    "        k=k+1\n",
    "        \n",
    "    print(\"\")"
   ]
  },
  {
   "cell_type": "code",
   "execution_count": null,
   "id": "6c0da454",
   "metadata": {},
   "outputs": [],
   "source": []
  }
 ],
 "metadata": {
  "kernelspec": {
   "display_name": "Python 3 (ipykernel)",
   "language": "python",
   "name": "python3"
  },
  "language_info": {
   "codemirror_mode": {
    "name": "ipython",
    "version": 3
   },
   "file_extension": ".py",
   "mimetype": "text/x-python",
   "name": "python",
   "nbconvert_exporter": "python",
   "pygments_lexer": "ipython3",
   "version": "3.9.7"
  },
  "varInspector": {
   "cols": {
    "lenName": 16,
    "lenType": 16,
    "lenVar": 40
   },
   "kernels_config": {
    "python": {
     "delete_cmd_postfix": "",
     "delete_cmd_prefix": "del ",
     "library": "var_list.py",
     "varRefreshCmd": "print(var_dic_list())"
    },
    "r": {
     "delete_cmd_postfix": ") ",
     "delete_cmd_prefix": "rm(",
     "library": "var_list.r",
     "varRefreshCmd": "cat(var_dic_list()) "
    }
   },
   "types_to_exclude": [
    "module",
    "function",
    "builtin_function_or_method",
    "instance",
    "_Feature"
   ],
   "window_display": false
  }
 },
 "nbformat": 4,
 "nbformat_minor": 5
}
