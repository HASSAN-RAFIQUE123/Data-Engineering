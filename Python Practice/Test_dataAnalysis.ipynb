{
 "cells": [
  {
   "cell_type": "code",
   "execution_count": 1,
   "metadata": {
    "id": "6kvW2HBMQlvi"
   },
   "outputs": [],
   "source": [
    "import numpy as np"
   ]
  },
  {
   "cell_type": "code",
   "execution_count": 2,
   "metadata": {
    "id": "l6NtBumSQscK"
   },
   "outputs": [],
   "source": [
    "import pandas as pd"
   ]
  },
  {
   "cell_type": "code",
   "execution_count": 3,
   "metadata": {
    "colab": {
     "base_uri": "https://localhost:8080/",
     "height": 423
    },
    "id": "FGoRu3oCQvdC",
    "outputId": "0daf5095-6804-4770-8c38-37d07b75ae52"
   },
   "outputs": [
    {
     "data": {
      "text/html": [
       "<div>\n",
       "<style scoped>\n",
       "    .dataframe tbody tr th:only-of-type {\n",
       "        vertical-align: middle;\n",
       "    }\n",
       "\n",
       "    .dataframe tbody tr th {\n",
       "        vertical-align: top;\n",
       "    }\n",
       "\n",
       "    .dataframe thead th {\n",
       "        text-align: right;\n",
       "    }\n",
       "</style>\n",
       "<table border=\"1\" class=\"dataframe\">\n",
       "  <thead>\n",
       "    <tr style=\"text-align: right;\">\n",
       "      <th></th>\n",
       "      <th>Invoice</th>\n",
       "      <th>StockCode</th>\n",
       "      <th>Description</th>\n",
       "      <th>Quantity</th>\n",
       "      <th>InvoiceDate</th>\n",
       "      <th>Price</th>\n",
       "      <th>Customer ID</th>\n",
       "      <th>Country</th>\n",
       "    </tr>\n",
       "  </thead>\n",
       "  <tbody>\n",
       "    <tr>\n",
       "      <th>0</th>\n",
       "      <td>489434</td>\n",
       "      <td>85048</td>\n",
       "      <td>15CM CHRISTMAS GLASS BALL 20 LIGHTS</td>\n",
       "      <td>12</td>\n",
       "      <td>2009-12-01 07:45:00</td>\n",
       "      <td>6.95</td>\n",
       "      <td>13085.0</td>\n",
       "      <td>United Kingdom</td>\n",
       "    </tr>\n",
       "    <tr>\n",
       "      <th>1</th>\n",
       "      <td>489434</td>\n",
       "      <td>79323P</td>\n",
       "      <td>PINK CHERRY LIGHTS</td>\n",
       "      <td>12</td>\n",
       "      <td>2009-12-01 07:45:00</td>\n",
       "      <td>6.75</td>\n",
       "      <td>13085.0</td>\n",
       "      <td>United Kingdom</td>\n",
       "    </tr>\n",
       "    <tr>\n",
       "      <th>2</th>\n",
       "      <td>489434</td>\n",
       "      <td>79323W</td>\n",
       "      <td>WHITE CHERRY LIGHTS</td>\n",
       "      <td>12</td>\n",
       "      <td>2009-12-01 07:45:00</td>\n",
       "      <td>6.75</td>\n",
       "      <td>13085.0</td>\n",
       "      <td>United Kingdom</td>\n",
       "    </tr>\n",
       "    <tr>\n",
       "      <th>3</th>\n",
       "      <td>489434</td>\n",
       "      <td>22041</td>\n",
       "      <td>RECORD FRAME 7\" SINGLE SIZE</td>\n",
       "      <td>48</td>\n",
       "      <td>2009-12-01 07:45:00</td>\n",
       "      <td>2.10</td>\n",
       "      <td>13085.0</td>\n",
       "      <td>United Kingdom</td>\n",
       "    </tr>\n",
       "    <tr>\n",
       "      <th>4</th>\n",
       "      <td>489434</td>\n",
       "      <td>21232</td>\n",
       "      <td>STRAWBERRY CERAMIC TRINKET BOX</td>\n",
       "      <td>24</td>\n",
       "      <td>2009-12-01 07:45:00</td>\n",
       "      <td>1.25</td>\n",
       "      <td>13085.0</td>\n",
       "      <td>United Kingdom</td>\n",
       "    </tr>\n",
       "    <tr>\n",
       "      <th>...</th>\n",
       "      <td>...</td>\n",
       "      <td>...</td>\n",
       "      <td>...</td>\n",
       "      <td>...</td>\n",
       "      <td>...</td>\n",
       "      <td>...</td>\n",
       "      <td>...</td>\n",
       "      <td>...</td>\n",
       "    </tr>\n",
       "    <tr>\n",
       "      <th>525456</th>\n",
       "      <td>538171</td>\n",
       "      <td>22271</td>\n",
       "      <td>FELTCRAFT DOLL ROSIE</td>\n",
       "      <td>2</td>\n",
       "      <td>2010-12-09 20:01:00</td>\n",
       "      <td>2.95</td>\n",
       "      <td>17530.0</td>\n",
       "      <td>United Kingdom</td>\n",
       "    </tr>\n",
       "    <tr>\n",
       "      <th>525457</th>\n",
       "      <td>538171</td>\n",
       "      <td>22750</td>\n",
       "      <td>FELTCRAFT PRINCESS LOLA DOLL</td>\n",
       "      <td>1</td>\n",
       "      <td>2010-12-09 20:01:00</td>\n",
       "      <td>3.75</td>\n",
       "      <td>17530.0</td>\n",
       "      <td>United Kingdom</td>\n",
       "    </tr>\n",
       "    <tr>\n",
       "      <th>525458</th>\n",
       "      <td>538171</td>\n",
       "      <td>22751</td>\n",
       "      <td>FELTCRAFT PRINCESS OLIVIA DOLL</td>\n",
       "      <td>1</td>\n",
       "      <td>2010-12-09 20:01:00</td>\n",
       "      <td>3.75</td>\n",
       "      <td>17530.0</td>\n",
       "      <td>United Kingdom</td>\n",
       "    </tr>\n",
       "    <tr>\n",
       "      <th>525459</th>\n",
       "      <td>538171</td>\n",
       "      <td>20970</td>\n",
       "      <td>PINK FLORAL FELTCRAFT SHOULDER BAG</td>\n",
       "      <td>2</td>\n",
       "      <td>2010-12-09 20:01:00</td>\n",
       "      <td>3.75</td>\n",
       "      <td>17530.0</td>\n",
       "      <td>United Kingdom</td>\n",
       "    </tr>\n",
       "    <tr>\n",
       "      <th>525460</th>\n",
       "      <td>538171</td>\n",
       "      <td>21931</td>\n",
       "      <td>JUMBO STORAGE BAG SUKI</td>\n",
       "      <td>2</td>\n",
       "      <td>2010-12-09 20:01:00</td>\n",
       "      <td>1.95</td>\n",
       "      <td>17530.0</td>\n",
       "      <td>United Kingdom</td>\n",
       "    </tr>\n",
       "  </tbody>\n",
       "</table>\n",
       "<p>525461 rows × 8 columns</p>\n",
       "</div>"
      ],
      "text/plain": [
       "       Invoice StockCode                          Description  Quantity  \\\n",
       "0       489434     85048  15CM CHRISTMAS GLASS BALL 20 LIGHTS        12   \n",
       "1       489434    79323P                   PINK CHERRY LIGHTS        12   \n",
       "2       489434    79323W                  WHITE CHERRY LIGHTS        12   \n",
       "3       489434     22041         RECORD FRAME 7\" SINGLE SIZE         48   \n",
       "4       489434     21232       STRAWBERRY CERAMIC TRINKET BOX        24   \n",
       "...        ...       ...                                  ...       ...   \n",
       "525456  538171     22271                 FELTCRAFT DOLL ROSIE         2   \n",
       "525457  538171     22750         FELTCRAFT PRINCESS LOLA DOLL         1   \n",
       "525458  538171     22751       FELTCRAFT PRINCESS OLIVIA DOLL         1   \n",
       "525459  538171     20970   PINK FLORAL FELTCRAFT SHOULDER BAG         2   \n",
       "525460  538171     21931               JUMBO STORAGE BAG SUKI         2   \n",
       "\n",
       "               InvoiceDate  Price  Customer ID         Country  \n",
       "0      2009-12-01 07:45:00   6.95      13085.0  United Kingdom  \n",
       "1      2009-12-01 07:45:00   6.75      13085.0  United Kingdom  \n",
       "2      2009-12-01 07:45:00   6.75      13085.0  United Kingdom  \n",
       "3      2009-12-01 07:45:00   2.10      13085.0  United Kingdom  \n",
       "4      2009-12-01 07:45:00   1.25      13085.0  United Kingdom  \n",
       "...                    ...    ...          ...             ...  \n",
       "525456 2010-12-09 20:01:00   2.95      17530.0  United Kingdom  \n",
       "525457 2010-12-09 20:01:00   3.75      17530.0  United Kingdom  \n",
       "525458 2010-12-09 20:01:00   3.75      17530.0  United Kingdom  \n",
       "525459 2010-12-09 20:01:00   3.75      17530.0  United Kingdom  \n",
       "525460 2010-12-09 20:01:00   1.95      17530.0  United Kingdom  \n",
       "\n",
       "[525461 rows x 8 columns]"
      ]
     },
     "execution_count": 3,
     "metadata": {},
     "output_type": "execute_result"
    }
   ],
   "source": [
    "df = pd.read_excel('C:/Users/user/Downloads/test_data.xlsx')\n",
    "df"
   ]
  },
  {
   "cell_type": "code",
   "execution_count": 5,
   "metadata": {
    "colab": {
     "base_uri": "https://localhost:8080/",
     "height": 423
    },
    "id": "GfgQmV6KU4YF",
    "outputId": "78b5c27e-8661-4271-b682-a491d14a53ea"
   },
   "outputs": [
    {
     "data": {
      "text/html": [
       "<div>\n",
       "<style scoped>\n",
       "    .dataframe tbody tr th:only-of-type {\n",
       "        vertical-align: middle;\n",
       "    }\n",
       "\n",
       "    .dataframe tbody tr th {\n",
       "        vertical-align: top;\n",
       "    }\n",
       "\n",
       "    .dataframe thead th {\n",
       "        text-align: right;\n",
       "    }\n",
       "</style>\n",
       "<table border=\"1\" class=\"dataframe\">\n",
       "  <thead>\n",
       "    <tr style=\"text-align: right;\">\n",
       "      <th></th>\n",
       "      <th>Invoice</th>\n",
       "      <th>StockCode</th>\n",
       "      <th>Description</th>\n",
       "      <th>Quantity</th>\n",
       "      <th>InvoiceDate</th>\n",
       "      <th>Price</th>\n",
       "      <th>Customer ID</th>\n",
       "      <th>Country</th>\n",
       "    </tr>\n",
       "  </thead>\n",
       "  <tbody>\n",
       "    <tr>\n",
       "      <th>190000</th>\n",
       "      <td>507393</td>\n",
       "      <td>48187</td>\n",
       "      <td>DOOR MAT NEW ENGLAND</td>\n",
       "      <td>10</td>\n",
       "      <td>2010-05-09 12:49:00</td>\n",
       "      <td>6.35</td>\n",
       "      <td>14911.0</td>\n",
       "      <td>EIRE</td>\n",
       "    </tr>\n",
       "    <tr>\n",
       "      <th>190001</th>\n",
       "      <td>507393</td>\n",
       "      <td>21894</td>\n",
       "      <td>POTTING SHED SEED ENVELOPES</td>\n",
       "      <td>12</td>\n",
       "      <td>2010-05-09 12:49:00</td>\n",
       "      <td>1.25</td>\n",
       "      <td>14911.0</td>\n",
       "      <td>EIRE</td>\n",
       "    </tr>\n",
       "    <tr>\n",
       "      <th>190002</th>\n",
       "      <td>507393</td>\n",
       "      <td>21895</td>\n",
       "      <td>POTTING SHED SOW 'N' GROW SET</td>\n",
       "      <td>4</td>\n",
       "      <td>2010-05-09 12:49:00</td>\n",
       "      <td>4.25</td>\n",
       "      <td>14911.0</td>\n",
       "      <td>EIRE</td>\n",
       "    </tr>\n",
       "    <tr>\n",
       "      <th>190003</th>\n",
       "      <td>507393</td>\n",
       "      <td>21896</td>\n",
       "      <td>POTTING SHED TWINE</td>\n",
       "      <td>6</td>\n",
       "      <td>2010-05-09 12:49:00</td>\n",
       "      <td>2.10</td>\n",
       "      <td>14911.0</td>\n",
       "      <td>EIRE</td>\n",
       "    </tr>\n",
       "    <tr>\n",
       "      <th>190004</th>\n",
       "      <td>507393</td>\n",
       "      <td>22479</td>\n",
       "      <td>DAISY GARDEN MARKER</td>\n",
       "      <td>10</td>\n",
       "      <td>2010-05-09 12:49:00</td>\n",
       "      <td>1.25</td>\n",
       "      <td>14911.0</td>\n",
       "      <td>EIRE</td>\n",
       "    </tr>\n",
       "    <tr>\n",
       "      <th>...</th>\n",
       "      <td>...</td>\n",
       "      <td>...</td>\n",
       "      <td>...</td>\n",
       "      <td>...</td>\n",
       "      <td>...</td>\n",
       "      <td>...</td>\n",
       "      <td>...</td>\n",
       "      <td>...</td>\n",
       "    </tr>\n",
       "    <tr>\n",
       "      <th>193995</th>\n",
       "      <td>507860</td>\n",
       "      <td>21610</td>\n",
       "      <td>NaN</td>\n",
       "      <td>-110</td>\n",
       "      <td>2010-05-11 14:54:00</td>\n",
       "      <td>0.00</td>\n",
       "      <td>NaN</td>\n",
       "      <td>United Kingdom</td>\n",
       "    </tr>\n",
       "    <tr>\n",
       "      <th>193996</th>\n",
       "      <td>507862</td>\n",
       "      <td>20938</td>\n",
       "      <td>NaN</td>\n",
       "      <td>-109</td>\n",
       "      <td>2010-05-11 14:55:00</td>\n",
       "      <td>0.00</td>\n",
       "      <td>NaN</td>\n",
       "      <td>United Kingdom</td>\n",
       "    </tr>\n",
       "    <tr>\n",
       "      <th>193997</th>\n",
       "      <td>507861</td>\n",
       "      <td>72024U</td>\n",
       "      <td>NaN</td>\n",
       "      <td>-106</td>\n",
       "      <td>2010-05-11 14:55:00</td>\n",
       "      <td>0.00</td>\n",
       "      <td>NaN</td>\n",
       "      <td>United Kingdom</td>\n",
       "    </tr>\n",
       "    <tr>\n",
       "      <th>193998</th>\n",
       "      <td>507863</td>\n",
       "      <td>20935</td>\n",
       "      <td>NaN</td>\n",
       "      <td>-37</td>\n",
       "      <td>2010-05-11 14:55:00</td>\n",
       "      <td>0.00</td>\n",
       "      <td>NaN</td>\n",
       "      <td>United Kingdom</td>\n",
       "    </tr>\n",
       "    <tr>\n",
       "      <th>193999</th>\n",
       "      <td>507864</td>\n",
       "      <td>21691</td>\n",
       "      <td>NaN</td>\n",
       "      <td>-34</td>\n",
       "      <td>2010-05-11 14:56:00</td>\n",
       "      <td>0.00</td>\n",
       "      <td>NaN</td>\n",
       "      <td>United Kingdom</td>\n",
       "    </tr>\n",
       "  </tbody>\n",
       "</table>\n",
       "<p>4000 rows × 8 columns</p>\n",
       "</div>"
      ],
      "text/plain": [
       "       Invoice StockCode                    Description  Quantity  \\\n",
       "190000  507393     48187           DOOR MAT NEW ENGLAND        10   \n",
       "190001  507393     21894    POTTING SHED SEED ENVELOPES        12   \n",
       "190002  507393     21895  POTTING SHED SOW 'N' GROW SET         4   \n",
       "190003  507393     21896             POTTING SHED TWINE         6   \n",
       "190004  507393     22479            DAISY GARDEN MARKER        10   \n",
       "...        ...       ...                            ...       ...   \n",
       "193995  507860     21610                            NaN      -110   \n",
       "193996  507862     20938                            NaN      -109   \n",
       "193997  507861    72024U                            NaN      -106   \n",
       "193998  507863     20935                            NaN       -37   \n",
       "193999  507864     21691                            NaN       -34   \n",
       "\n",
       "               InvoiceDate  Price  Customer ID         Country  \n",
       "190000 2010-05-09 12:49:00   6.35      14911.0            EIRE  \n",
       "190001 2010-05-09 12:49:00   1.25      14911.0            EIRE  \n",
       "190002 2010-05-09 12:49:00   4.25      14911.0            EIRE  \n",
       "190003 2010-05-09 12:49:00   2.10      14911.0            EIRE  \n",
       "190004 2010-05-09 12:49:00   1.25      14911.0            EIRE  \n",
       "...                    ...    ...          ...             ...  \n",
       "193995 2010-05-11 14:54:00   0.00          NaN  United Kingdom  \n",
       "193996 2010-05-11 14:55:00   0.00          NaN  United Kingdom  \n",
       "193997 2010-05-11 14:55:00   0.00          NaN  United Kingdom  \n",
       "193998 2010-05-11 14:55:00   0.00          NaN  United Kingdom  \n",
       "193999 2010-05-11 14:56:00   0.00          NaN  United Kingdom  \n",
       "\n",
       "[4000 rows x 8 columns]"
      ]
     },
     "execution_count": 5,
     "metadata": {},
     "output_type": "execute_result"
    }
   ],
   "source": [
    "# analyze data in indexes between (410400, 414400)!\n",
    "# filter_data=df.loc[410400:414400]\n",
    "filter_data=df.iloc[190000: 194000]\n",
    "\n",
    "filter_data"
   ]
  },
  {
   "cell_type": "code",
   "execution_count": 6,
   "metadata": {
    "colab": {
     "base_uri": "https://localhost:8080/",
     "height": 423
    },
    "id": "aYJ6WCfmTRWa",
    "outputId": "9636f713-4fcd-4884-b909-45e291eb20b6"
   },
   "outputs": [
    {
     "data": {
      "text/html": [
       "<div>\n",
       "<style scoped>\n",
       "    .dataframe tbody tr th:only-of-type {\n",
       "        vertical-align: middle;\n",
       "    }\n",
       "\n",
       "    .dataframe tbody tr th {\n",
       "        vertical-align: top;\n",
       "    }\n",
       "\n",
       "    .dataframe thead th {\n",
       "        text-align: right;\n",
       "    }\n",
       "</style>\n",
       "<table border=\"1\" class=\"dataframe\">\n",
       "  <thead>\n",
       "    <tr style=\"text-align: right;\">\n",
       "      <th></th>\n",
       "      <th>Invoice</th>\n",
       "      <th>StockCode</th>\n",
       "      <th>Description</th>\n",
       "      <th>Quantity</th>\n",
       "      <th>InvoiceDate</th>\n",
       "      <th>Price</th>\n",
       "      <th>Customer ID</th>\n",
       "      <th>Country</th>\n",
       "    </tr>\n",
       "  </thead>\n",
       "  <tbody>\n",
       "    <tr>\n",
       "      <th>190000</th>\n",
       "      <td>507393</td>\n",
       "      <td>48187</td>\n",
       "      <td>DOOR MAT NEW ENGLAND</td>\n",
       "      <td>10</td>\n",
       "      <td>2010-05-09 12:49:00</td>\n",
       "      <td>6.35</td>\n",
       "      <td>14911.0</td>\n",
       "      <td>EIRE</td>\n",
       "    </tr>\n",
       "    <tr>\n",
       "      <th>190001</th>\n",
       "      <td>507393</td>\n",
       "      <td>21894</td>\n",
       "      <td>POTTING SHED SEED ENVELOPES</td>\n",
       "      <td>12</td>\n",
       "      <td>2010-05-09 12:49:00</td>\n",
       "      <td>1.25</td>\n",
       "      <td>14911.0</td>\n",
       "      <td>EIRE</td>\n",
       "    </tr>\n",
       "    <tr>\n",
       "      <th>190002</th>\n",
       "      <td>507393</td>\n",
       "      <td>21895</td>\n",
       "      <td>POTTING SHED SOW 'N' GROW SET</td>\n",
       "      <td>4</td>\n",
       "      <td>2010-05-09 12:49:00</td>\n",
       "      <td>4.25</td>\n",
       "      <td>14911.0</td>\n",
       "      <td>EIRE</td>\n",
       "    </tr>\n",
       "    <tr>\n",
       "      <th>190003</th>\n",
       "      <td>507393</td>\n",
       "      <td>21896</td>\n",
       "      <td>POTTING SHED TWINE</td>\n",
       "      <td>6</td>\n",
       "      <td>2010-05-09 12:49:00</td>\n",
       "      <td>2.10</td>\n",
       "      <td>14911.0</td>\n",
       "      <td>EIRE</td>\n",
       "    </tr>\n",
       "    <tr>\n",
       "      <th>190004</th>\n",
       "      <td>507393</td>\n",
       "      <td>22479</td>\n",
       "      <td>DAISY GARDEN MARKER</td>\n",
       "      <td>10</td>\n",
       "      <td>2010-05-09 12:49:00</td>\n",
       "      <td>1.25</td>\n",
       "      <td>14911.0</td>\n",
       "      <td>EIRE</td>\n",
       "    </tr>\n",
       "    <tr>\n",
       "      <th>...</th>\n",
       "      <td>...</td>\n",
       "      <td>...</td>\n",
       "      <td>...</td>\n",
       "      <td>...</td>\n",
       "      <td>...</td>\n",
       "      <td>...</td>\n",
       "      <td>...</td>\n",
       "      <td>...</td>\n",
       "    </tr>\n",
       "    <tr>\n",
       "      <th>193979</th>\n",
       "      <td>507848</td>\n",
       "      <td>84879</td>\n",
       "      <td>ASSORTED COLOUR BIRD ORNAMENT</td>\n",
       "      <td>16</td>\n",
       "      <td>2010-05-11 14:41:00</td>\n",
       "      <td>1.69</td>\n",
       "      <td>13103.0</td>\n",
       "      <td>United Kingdom</td>\n",
       "    </tr>\n",
       "    <tr>\n",
       "      <th>193980</th>\n",
       "      <td>507848</td>\n",
       "      <td>22456</td>\n",
       "      <td>NATURAL SLATE CHALKBOARD LARGE</td>\n",
       "      <td>6</td>\n",
       "      <td>2010-05-11 14:41:00</td>\n",
       "      <td>4.95</td>\n",
       "      <td>13103.0</td>\n",
       "      <td>United Kingdom</td>\n",
       "    </tr>\n",
       "    <tr>\n",
       "      <th>193981</th>\n",
       "      <td>507848</td>\n",
       "      <td>71053</td>\n",
       "      <td>WHITE METAL LANTERN</td>\n",
       "      <td>8</td>\n",
       "      <td>2010-05-11 14:41:00</td>\n",
       "      <td>3.75</td>\n",
       "      <td>13103.0</td>\n",
       "      <td>United Kingdom</td>\n",
       "    </tr>\n",
       "    <tr>\n",
       "      <th>193982</th>\n",
       "      <td>507848</td>\n",
       "      <td>84970S</td>\n",
       "      <td>HANGING HEART ZINC T-LIGHT HOLDER</td>\n",
       "      <td>12</td>\n",
       "      <td>2010-05-11 14:41:00</td>\n",
       "      <td>0.85</td>\n",
       "      <td>13103.0</td>\n",
       "      <td>United Kingdom</td>\n",
       "    </tr>\n",
       "    <tr>\n",
       "      <th>193983</th>\n",
       "      <td>507848</td>\n",
       "      <td>84970L</td>\n",
       "      <td>SINGLE HEART ZINC T-LIGHT HOLDER</td>\n",
       "      <td>12</td>\n",
       "      <td>2010-05-11 14:41:00</td>\n",
       "      <td>0.95</td>\n",
       "      <td>13103.0</td>\n",
       "      <td>United Kingdom</td>\n",
       "    </tr>\n",
       "  </tbody>\n",
       "</table>\n",
       "<p>3381 rows × 8 columns</p>\n",
       "</div>"
      ],
      "text/plain": [
       "       Invoice StockCode                        Description  Quantity  \\\n",
       "190000  507393     48187               DOOR MAT NEW ENGLAND        10   \n",
       "190001  507393     21894        POTTING SHED SEED ENVELOPES        12   \n",
       "190002  507393     21895      POTTING SHED SOW 'N' GROW SET         4   \n",
       "190003  507393     21896                 POTTING SHED TWINE         6   \n",
       "190004  507393     22479                DAISY GARDEN MARKER        10   \n",
       "...        ...       ...                                ...       ...   \n",
       "193979  507848     84879      ASSORTED COLOUR BIRD ORNAMENT        16   \n",
       "193980  507848     22456    NATURAL SLATE CHALKBOARD LARGE          6   \n",
       "193981  507848     71053                WHITE METAL LANTERN         8   \n",
       "193982  507848    84970S  HANGING HEART ZINC T-LIGHT HOLDER        12   \n",
       "193983  507848    84970L   SINGLE HEART ZINC T-LIGHT HOLDER        12   \n",
       "\n",
       "               InvoiceDate  Price  Customer ID         Country  \n",
       "190000 2010-05-09 12:49:00   6.35      14911.0            EIRE  \n",
       "190001 2010-05-09 12:49:00   1.25      14911.0            EIRE  \n",
       "190002 2010-05-09 12:49:00   4.25      14911.0            EIRE  \n",
       "190003 2010-05-09 12:49:00   2.10      14911.0            EIRE  \n",
       "190004 2010-05-09 12:49:00   1.25      14911.0            EIRE  \n",
       "...                    ...    ...          ...             ...  \n",
       "193979 2010-05-11 14:41:00   1.69      13103.0  United Kingdom  \n",
       "193980 2010-05-11 14:41:00   4.95      13103.0  United Kingdom  \n",
       "193981 2010-05-11 14:41:00   3.75      13103.0  United Kingdom  \n",
       "193982 2010-05-11 14:41:00   0.85      13103.0  United Kingdom  \n",
       "193983 2010-05-11 14:41:00   0.95      13103.0  United Kingdom  \n",
       "\n",
       "[3381 rows x 8 columns]"
      ]
     },
     "execution_count": 6,
     "metadata": {},
     "output_type": "execute_result"
    }
   ],
   "source": [
    "# clean data\n",
    "filter_data=filter_data.dropna()\n",
    "filter_data"
   ]
  },
  {
   "cell_type": "code",
   "execution_count": 7,
   "metadata": {
    "colab": {
     "base_uri": "https://localhost:8080/"
    },
    "id": "PiJ8hOj6VMSO",
    "outputId": "8225da45-6758-4da4-9989-76f9dc87837b"
   },
   "outputs": [
    {
     "data": {
      "text/plain": [
       "3381"
      ]
     },
     "execution_count": 7,
     "metadata": {},
     "output_type": "execute_result"
    }
   ],
   "source": [
    "filter_data['Invoice'].count()"
   ]
  },
  {
   "cell_type": "code",
   "execution_count": 8,
   "metadata": {
    "colab": {
     "base_uri": "https://localhost:8080/"
    },
    "id": "8tQYoQHGU6hM",
    "outputId": "9b71b009-72f8-4e92-9985-fe5f69568616"
   },
   "outputs": [
    {
     "data": {
      "text/plain": [
       "202"
      ]
     },
     "execution_count": 8,
     "metadata": {},
     "output_type": "execute_result"
    }
   ],
   "source": [
    "# The amount of unique invoices in the provided dataset for indexes (410400, 414400)\n",
    "filter_data['Invoice'].nunique()"
   ]
  },
  {
   "cell_type": "code",
   "execution_count": 9,
   "metadata": {
    "colab": {
     "base_uri": "https://localhost:8080/",
     "height": 36
    },
    "id": "Y3sJBGrxVNAG",
    "outputId": "7952a233-4280-45be-8ee0-62601d0e4393"
   },
   "outputs": [
    {
     "data": {
      "text/plain": [
       "'United Kingdom'"
      ]
     },
     "execution_count": 9,
     "metadata": {},
     "output_type": "execute_result"
    }
   ],
   "source": [
    "# The country with the most orders is Odpověď 2 Úloha 11\n",
    "# United Kingdom\n",
    "#  (string) with the amount of Odpověď 3 Úloha 11\n",
    "# #  (integer)\n",
    "filter_data['Country'].max()\n"
   ]
  },
  {
   "cell_type": "code",
   "execution_count": 10,
   "metadata": {
    "colab": {
     "base_uri": "https://localhost:8080/"
    },
    "id": "XteshO4cXwBa",
    "outputId": "83f06270-6921-4c36-c510-9bda74a730eb"
   },
   "outputs": [
    {
     "data": {
      "text/plain": [
       "3015"
      ]
     },
     "execution_count": 10,
     "metadata": {},
     "output_type": "execute_result"
    }
   ],
   "source": [
    "# filter_data.groupby('Country')['Quantity'].count().nlargest(10)\n",
    "filter_data.groupby('Country')['Quantity'].count().max()"
   ]
  },
  {
   "cell_type": "code",
   "execution_count": 11,
   "metadata": {
    "colab": {
     "base_uri": "https://localhost:8080/",
     "height": 36
    },
    "id": "cEtV14PpVU3x",
    "outputId": "352a6fec-7b81-47fe-d70a-8c3dad29a9c9"
   },
   "outputs": [
    {
     "data": {
      "text/plain": [
       "'Belgium'"
      ]
     },
     "execution_count": 11,
     "metadata": {},
     "output_type": "execute_result"
    }
   ],
   "source": [
    "# The country with the least orders is Odpověď 4 Úloha 11\n",
    "# Australia\n",
    "#  (string) with the amount of Odpověď 5 Úloha 11\n",
    "#  (integer).\n",
    "aus=min(filter_data['Country'])\n",
    "aus"
   ]
  },
  {
   "cell_type": "code",
   "execution_count": 13,
   "metadata": {
    "colab": {
     "base_uri": "https://localhost:8080/"
    },
    "id": "YuQmO1cQa7Ks",
    "outputId": "0a1608ed-b130-4205-b125-619635e17400"
   },
   "outputs": [
    {
     "data": {
      "text/plain": [
       "0"
      ]
     },
     "execution_count": 13,
     "metadata": {},
     "output_type": "execute_result"
    }
   ],
   "source": [
    "# filter_data[filter_data.Country==min(filter_data['Country'])]['Country'].count()\n",
    "filter_data[filter_data['Country']=='Australia']['Country'].count()"
   ]
  },
  {
   "cell_type": "code",
   "execution_count": 14,
   "metadata": {
    "colab": {
     "base_uri": "https://localhost:8080/"
    },
    "id": "JUJWHEWwdusq",
    "outputId": "6640bb57-bc5b-43d1-e8ca-21a1cfb20d90"
   },
   "outputs": [
    {
     "name": "stderr",
     "output_type": "stream",
     "text": [
      "C:\\Users\\user\\AppData\\Local\\Temp\\ipykernel_12272\\2052416777.py:2: SettingWithCopyWarning: \n",
      "A value is trying to be set on a copy of a slice from a DataFrame.\n",
      "Try using .loc[row_indexer,col_indexer] = value instead\n",
      "\n",
      "See the caveats in the documentation: https://pandas.pydata.org/pandas-docs/stable/user_guide/indexing.html#returning-a-view-versus-a-copy\n",
      "  filter_data['total_price']=filter_data['Quantity']*filter_data['Price']\n"
     ]
    }
   ],
   "source": [
    "# The highest total price per item in one order\n",
    "filter_data['total_price']=filter_data['Quantity']*filter_data['Price']\n",
    "# print(filter_data['Price'].max())\n",
    "# #  (float) in order with id Odpověď 7 Úloha 11\n",
    "# filter_data['Price'].idxmax()"
   ]
  },
  {
   "cell_type": "code",
   "execution_count": 19,
   "metadata": {
    "colab": {
     "base_uri": "https://localhost:8080/"
    },
    "id": "eppPd7lReTaF",
    "outputId": "1ccffeca-be90-4322-8d17-1d8223ad81a8"
   },
   "outputs": [
    {
     "data": {
      "text/plain": [
       "Invoice\n",
       "507845    2174.10\n",
       "507707    1926.40\n",
       "507464    1621.80\n",
       "507399    1438.19\n",
       "507465    1393.92\n",
       "507715    1244.60\n",
       "507624    1192.64\n",
       "507634    1149.37\n",
       "507710    1085.50\n",
       "507698    1041.51\n",
       "Name: total_price, dtype: float64"
      ]
     },
     "execution_count": 19,
     "metadata": {},
     "output_type": "execute_result"
    }
   ],
   "source": [
    "filter_data.groupby(\"Invoice\")['total_price'].sum().nlargest(10)"
   ]
  },
  {
   "cell_type": "code",
   "execution_count": 16,
   "metadata": {
    "colab": {
     "base_uri": "https://localhost:8080/"
    },
    "id": "aLWsmrHyph0M",
    "outputId": "b22c3844-60e6-4a05-a5fb-49c293f52574"
   },
   "outputs": [
    {
     "data": {
      "text/plain": [
       "507845"
      ]
     },
     "execution_count": 16,
     "metadata": {},
     "output_type": "execute_result"
    }
   ],
   "source": [
    "filter_data.groupby(\"Invoice\")['total_price'].sum().idxmax()"
   ]
  },
  {
   "cell_type": "code",
   "execution_count": 17,
   "metadata": {
    "colab": {
     "base_uri": "https://localhost:8080/"
    },
    "id": "LB-AIeJgsAEi",
    "outputId": "fe34a967-072a-4cb0-ef5b-c9ad5c2b9d57"
   },
   "outputs": [
    {
     "name": "stdout",
     "output_type": "stream",
     "text": [
      "Customer ID\n",
      "18102.0    3015.72\n",
      "14911.0    2938.28\n",
      "Name: total_price, dtype: float64\n"
     ]
    }
   ],
   "source": [
    "# The first highest spending customer with id\n",
    "#  (integer) ordered a total of\n",
    "#  (integer) times.\n",
    "print(filter_data.groupby(\"Customer ID\")['total_price'].sum().nlargest(2))\n"
   ]
  }
 ],
 "metadata": {
  "colab": {
   "provenance": []
  },
  "kernelspec": {
   "display_name": "Python 3 (ipykernel)",
   "language": "python",
   "name": "python3"
  },
  "language_info": {
   "codemirror_mode": {
    "name": "ipython",
    "version": 3
   },
   "file_extension": ".py",
   "mimetype": "text/x-python",
   "name": "python",
   "nbconvert_exporter": "python",
   "pygments_lexer": "ipython3",
   "version": "3.11.5"
  }
 },
 "nbformat": 4,
 "nbformat_minor": 1
}
